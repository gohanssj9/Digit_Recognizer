{
 "cells": [
  {
   "cell_type": "code",
   "execution_count": 22,
   "metadata": {},
   "outputs": [
    {
     "data": {
      "image/png": "[encoded data removed]",
      "text/plain": [
       "<matplotlib.figure.Figure at 0x7ff3490eac50>"
      ]
     },
     "metadata": {},
     "output_type": "display_data"
    },
    {
     "name": "stdout",
     "output_type": "stream",
     "text": [
      "Train on 60000 samples, validate on 10000 samples\n",
      "Epoch 1/10\n",
      " - 6s - loss: 0.2784 - acc: 0.9211 - val_loss: 0.1412 - val_acc: 0.9572\n",
      "Epoch 2/10\n",
      " - 6s - loss: 0.1115 - acc: 0.9676 - val_loss: 0.0920 - val_acc: 0.9705\n",
      "Epoch 3/10\n",
      " - 6s - loss: 0.0718 - acc: 0.9796 - val_loss: 0.0781 - val_acc: 0.9771\n",
      "Epoch 4/10\n",
      " - 6s - loss: 0.0504 - acc: 0.9856 - val_loss: 0.0746 - val_acc: 0.9768\n",
      "Epoch 5/10\n",
      " - 6s - loss: 0.0372 - acc: 0.9894 - val_loss: 0.0676 - val_acc: 0.9787\n",
      "Epoch 6/10\n",
      " - 6s - loss: 0.0268 - acc: 0.9925 - val_loss: 0.0613 - val_acc: 0.9807\n",
      "Epoch 7/10\n",
      " - 6s - loss: 0.0209 - acc: 0.9947 - val_loss: 0.0625 - val_acc: 0.9807\n",
      "Epoch 8/10\n",
      " - 6s - loss: 0.0141 - acc: 0.9969 - val_loss: 0.0613 - val_acc: 0.9807\n",
      "Epoch 9/10\n",
      " - 6s - loss: 0.0106 - acc: 0.9978 - val_loss: 0.0584 - val_acc: 0.9809\n",
      "Epoch 10/10\n",
      " - 6s - loss: 0.0077 - acc: 0.9985 - val_loss: 0.0586 - val_acc: 0.9813\n",
      "Baseline Error: 1.87%\n"
     ]
    }
   ],
   "source": [
    "from keras.datasets import mnist\n",
    "import matplotlib.pyplot as plt\n",
    "\n",
    "(X_train, y_train), (X_test, y_test) = mnist.load_data()\n",
    "\n",
    "plt.subplot(221)\n",
    "plt.imshow(X_train[0], cmap = plt.get_cmap('gray'))\n",
    "\n",
    "plt.subplot(222)\n",
    "plt.imshow(X_train[1], cmap = plt.get_cmap('gray'))\n",
    "\n",
    "plt.show()\n",
    "\n",
    "#Using a simple neural network, get an error of less than 1.75 %\n",
    "import numpy as np\n",
    "from keras.models import Sequential\n",
    "from keras.layers import Dense, Dropout\n",
    "from keras.utils import np_utils\n",
    "\n",
    "#fix random seed for reproducibility\n",
    "seed = 7\n",
    "np.random.seed(seed)\n",
    "\n",
    "#Now we flatten 28*28 images to a 784 vector for each image.\n",
    "num_pixels = X_train.shape[1] * X_train.shape[2]\n",
    "X_train = X_train.reshape(X_train.shape[0], num_pixels).astype('float32')\n",
    "X_test = X_test.reshape(X_test.shape[0], num_pixels).astype('float32')\n",
    "\n",
    "#Now normalise input, to reduce range from 0 to 255 to 0 to 1\n",
    "X_train = X_train/255\n",
    "X_test = X_test/255\n",
    "\n",
    "#It is good practice to one hot encoding of class values, from 0 to 9 to a dummy binary matrix -- remember categorical data -- Kirill Eremeneko\n",
    "y_train = np_utils.to_categorical(y_train)\n",
    "y_test = np_utils.to_categorical(y_test)\n",
    "num_classes = y_test.shape[1]\n",
    "\n",
    "#Now we create a simple neural network model.\n",
    "def baseline_model():\n",
    "    model = Sequential()\n",
    "    model.add(Dense(num_pixels, input_dim = num_pixels, kernel_initializer = 'normal', activation = 'relu'))\n",
    "    model.add(Dense(num_classes, kernel_initializer = 'normal', activation = 'softmax'))\n",
    "    \n",
    "    model.compile(loss = 'categorical_crossentropy', optimizer = 'adam', metrics = ['accuracy'])\n",
    "    return model\n",
    "\n",
    "#Now we build the model\n",
    "model = baseline_model()\n",
    "\n",
    "#Fit the model\n",
    "model.fit(X_train, y_train, validation_data = (X_test, y_test), epochs = 10, batch_size = 200, verbose = 2)\n",
    "\n",
    "#Final model evaluation\n",
    "scores = model.evaluate(X_test, y_test, verbose = 0)\n",
    "print \"Baseline Error: %.2f%%\" %(100-scores[1]*100)"
   ]
  },
  {
   "cell_type": "markdown",
   "metadata": {},
   "source": [
    "## So we see that a simple neural network was able to sustain at a baseline error of 1.88%. This accuracy is pretty good considering we only used a single dense layer."
   ]
  }
 ],
 "metadata": {
  "kernelspec": {
   "display_name": "Python 2",
   "language": "python",
   "name": "python2"
  },
  "language_info": {
   "codemirror_mode": {
    "name": "ipython",
    "version": 2
   },
   "file_extension": ".py",
   "mimetype": "text/x-python",
   "name": "python",
   "nbconvert_exporter": "python",
   "pygments_lexer": "ipython2",
   "version": "2.7.13"
  }
 },
 "nbformat": 4,
 "nbformat_minor": 2
}
