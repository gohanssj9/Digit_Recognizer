{
 "cells": [
  {
   "cell_type": "code",
   "execution_count": 2,
   "metadata": {},
   "outputs": [],
   "source": [
    "import numpy as np\n",
    "from keras.datasets import mnist\n",
    "from keras.models import Sequential\n",
    "from keras.layers import Dense, Dropout, Flatten\n",
    "from keras.layers.convolutional import Conv2D, MaxPooling2D\n",
    "from keras.utils import np_utils\n",
    "from keras import backend as K\n",
    "K.set_image_dim_ordering('th')\n"
   ]
  },
  {
   "cell_type": "code",
   "execution_count": 3,
   "metadata": {},
   "outputs": [],
   "source": [
    "#Fix random seed for reproducibility\n",
    "seed = 7\n",
    "np.random.seed(seed)\n"
   ]
  },
  {
   "cell_type": "code",
   "execution_count": 4,
   "metadata": {},
   "outputs": [],
   "source": [
    "#Load_data\n",
    "(X_train, y_train), (X_test, y_test) = mnist.load_data()\n",
    "\n",
    "#Reshape to [samples][pixels][width][height]\n",
    "X_train = X_train.reshape(X_train.shape[0],1,28,28).astype('float32')\n",
    "X_test = X_test.reshape(X_test.shape[0],1,28,28).astype('float32')\n"
   ]
  },
  {
   "cell_type": "code",
   "execution_count": 5,
   "metadata": {},
   "outputs": [],
   "source": [
    "#Again, normalise input ranges.\n",
    "X_train = X_train/255\n",
    "X_test = X_test/255\n",
    "\n",
    "#Same, one hot encode outputs\n",
    "y_train = np_utils.to_categorical(y_train)\n",
    "y_test = np_utils.to_categorical(y_test)\n",
    "num_classes = y_test.shape[1]\n"
   ]
  },
  {
   "cell_type": "code",
   "execution_count": 6,
   "metadata": {},
   "outputs": [],
   "source": [
    "def baseline_model():\n",
    "    model = Sequential()\n",
    "    model.add(Conv2D(32, (5,5), input_shape = (1,28,28), activation = 'relu'))\n",
    "    model.add(MaxPooling2D(pool_size = (2,2)))\n",
    "    model.add(Dropout(0.2))\n",
    "    model.add(Flatten())\n",
    "    model.add(Dense(128, activation = 'relu'))\n",
    "    model.add(Dense(num_classes, activation = 'softmax'))\n",
    "    \n",
    "    model.compile(loss = 'categorical_crossentropy', optimizer = 'adam', metrics = ['accuracy'])\n",
    "    return model\n"
   ]
  },
  {
   "cell_type": "code",
   "execution_count": 7,
   "metadata": {},
   "outputs": [],
   "source": [
    "def larger_model():\n",
    "    model = Sequential()\n",
    "    model.add(Conv2D(30, (5, 5), input_shape=(1, 28, 28), activation='relu'))\n",
    "    model.add(MaxPooling2D(pool_size=(2, 2)))\n",
    "    model.add(Conv2D(15, (3, 3), activation='relu'))\n",
    "    model.add(MaxPooling2D(pool_size=(2, 2)))\n",
    "    model.add(Dropout(0.2))\n",
    "    model.add(Flatten())\n",
    "    model.add(Dense(128, activation='relu'))\n",
    "    model.add(Dense(50, activation='relu'))\n",
    "    model.add(Dense(num_classes, activation='softmax'))\n",
    "\n",
    "    model.compile(loss='categorical_crossentropy', optimizer='adam', metrics=['accuracy'])\n",
    "    return model\n"
   ]
  },
  {
   "cell_type": "code",
   "execution_count": 8,
   "metadata": {},
   "outputs": [
    {
     "name": "stdout",
     "output_type": "stream",
     "text": [
      "Train on 60000 samples, validate on 10000 samples\n",
      "Epoch 1/10\n",
      " - 189s - loss: 0.2321 - acc: 0.9343 - val_loss: 0.0815 - val_acc: 0.9745\n",
      "Epoch 2/10\n",
      " - 162s - loss: 0.0737 - acc: 0.9781 - val_loss: 0.0459 - val_acc: 0.9842\n",
      "Epoch 3/10\n",
      " - 155s - loss: 0.0530 - acc: 0.9838 - val_loss: 0.0436 - val_acc: 0.9854\n",
      "Epoch 4/10\n",
      " - 146s - loss: 0.0401 - acc: 0.9876 - val_loss: 0.0413 - val_acc: 0.9864\n",
      "Epoch 5/10\n",
      " - 146s - loss: 0.0335 - acc: 0.9892 - val_loss: 0.0335 - val_acc: 0.9885\n",
      "Epoch 6/10\n",
      " - 147s - loss: 0.0272 - acc: 0.9917 - val_loss: 0.0313 - val_acc: 0.9893\n",
      "Epoch 7/10\n",
      " - 145s - loss: 0.0228 - acc: 0.9930 - val_loss: 0.0358 - val_acc: 0.9877\n",
      "Epoch 8/10\n",
      " - 146s - loss: 0.0200 - acc: 0.9939 - val_loss: 0.0325 - val_acc: 0.9886\n",
      "Epoch 9/10\n",
      " - 147s - loss: 0.0166 - acc: 0.9947 - val_loss: 0.0302 - val_acc: 0.9899\n",
      "Epoch 10/10\n",
      " - 146s - loss: 0.0144 - acc: 0.9956 - val_loss: 0.0315 - val_acc: 0.9911\n",
      "CNN Error -- Smaller Model : 0.89%\n"
     ]
    }
   ],
   "source": [
    "model = baseline_model()\n",
    "model.fit(X_train, y_train, validation_data = (X_test, y_test), epochs = 10, batch_size = 200, verbose = 2)\n",
    "scores = model.evaluate(X_test, y_test, verbose = 0)\n",
    "print \"CNN Error -- Smaller Model : %.2f%%\" %(100-scores[1]*100)\n"
   ]
  },
  {
   "cell_type": "code",
   "execution_count": 9,
   "metadata": {
    "scrolled": true
   },
   "outputs": [
    {
     "name": "stdout",
     "output_type": "stream",
     "text": [
      "Train on 60000 samples, validate on 10000 samples\n",
      "Epoch 1/10\n",
      "60000/60000 [==============================] - 144s 2ms/step - loss: 0.3739 - acc: 0.8864 - val_loss: 0.0856 - val_acc: 0.9742\n",
      "Epoch 2/10\n",
      "60000/60000 [==============================] - 143s 2ms/step - loss: 0.0992 - acc: 0.9694 - val_loss: 0.0527 - val_acc: 0.9846\n",
      "Epoch 3/10\n",
      "60000/60000 [==============================] - 143s 2ms/step - loss: 0.0700 - acc: 0.9781 - val_loss: 0.0440 - val_acc: 0.9853\n",
      "Epoch 4/10\n",
      "60000/60000 [==============================] - 143s 2ms/step - loss: 0.0563 - acc: 0.9823 - val_loss: 0.0365 - val_acc: 0.9877\n",
      "Epoch 5/10\n",
      "60000/60000 [==============================] - 143s 2ms/step - loss: 0.0479 - acc: 0.9850 - val_loss: 0.0311 - val_acc: 0.9896\n",
      "Epoch 6/10\n",
      "60000/60000 [==============================] - 144s 2ms/step - loss: 0.0431 - acc: 0.9864 - val_loss: 0.0312 - val_acc: 0.9886\n",
      "Epoch 7/10\n",
      "60000/60000 [==============================] - 144s 2ms/step - loss: 0.0395 - acc: 0.9875 - val_loss: 0.0319 - val_acc: 0.9891\n",
      "Epoch 8/10\n",
      "60000/60000 [==============================] - 144s 2ms/step - loss: 0.0344 - acc: 0.9894 - val_loss: 0.0267 - val_acc: 0.9906\n",
      "Epoch 9/10\n",
      "60000/60000 [==============================] - 144s 2ms/step - loss: 0.0318 - acc: 0.9896 - val_loss: 0.0300 - val_acc: 0.9895\n",
      "Epoch 10/10\n",
      "60000/60000 [==============================] - 143s 2ms/step - loss: 0.0285 - acc: 0.9903 - val_loss: 0.0253 - val_acc: 0.9917\n",
      "Large CNN Error: 0.83%\n"
     ]
    }
   ],
   "source": [
    "model = larger_model()\n",
    "model.fit(X_train, y_train, validation_data=(X_test, y_test), epochs=10, batch_size=200)\n",
    "scores = model.evaluate(X_test, y_test, verbose=0)\n",
    "print(\"Large CNN Error: %.2f%%\" % (100-scores[1]*100))"
   ]
  },
  {
   "cell_type": "markdown",
   "metadata": {},
   "source": [
    "## So we could see that a larger model doesn't always guarantee higher efficiency. It is the case most of the times, but there are many proven exceptions."
   ]
  }
 ],
 "metadata": {
  "kernelspec": {
   "display_name": "Python 2",
   "language": "python",
   "name": "python2"
  },
  "language_info": {
   "codemirror_mode": {
    "name": "ipython",
    "version": 2
   },
   "file_extension": ".py",
   "mimetype": "text/x-python",
   "name": "python",
   "nbconvert_exporter": "python",
   "pygments_lexer": "ipython2",
   "version": "2.7.13"
  }
 },
 "nbformat": 4,
 "nbformat_minor": 2
}
